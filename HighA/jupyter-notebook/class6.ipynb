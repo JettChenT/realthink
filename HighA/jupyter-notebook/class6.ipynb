{
 "cells": [
  {
   "cell_type": "markdown",
   "metadata": {},
   "source": [
    "## Binary tree sorting"
   ]
  },
  {
   "cell_type": "code",
   "execution_count": 13,
   "metadata": {},
   "outputs": [],
   "source": [
    "class CLS_node():\n",
    "    \"\"\"\n",
    "    A Node in binary tree\n",
    "    \"\"\"\n",
    "    def __init__(self,v,l,r):\n",
    "        self.value = v\n",
    "        self.left = l\n",
    "        self.right = r\n",
    "    def __str__(self):\n",
    "        if self.left == None and self.right == None:\n",
    "            return str(self.value)\n",
    "        elif self.left == None:\n",
    "            return str(self.value)+str(self.right)\n",
    "        elif self.right == None:\n",
    "            return str(self.left)+str(self.value)\n",
    "        else:\n",
    "            return str(self.left)+str(self.value)+str(self.right)"
   ]
  },
  {
   "cell_type": "code",
   "execution_count": 219,
   "metadata": {},
   "outputs": [],
   "source": [
    "class CLS_tree():\n",
    "    \"\"\"\n",
    "    The binary tree\n",
    "    \"\"\"\n",
    "    def __init__(self,r):\n",
    "        self.root = r\n",
    "        self.widLst = [0 for _ in range(self.dep(self.root))]\n",
    "    def sortInsert(self,node,start):\n",
    "#         print(start)\n",
    "        if node.value>start.value:\n",
    "            if start.right==None:\n",
    "                start.right = node\n",
    "            else:\n",
    "                self.sortInsert(node,start.right)\n",
    "        else:\n",
    "            if start.left==None:\n",
    "                start.left = node\n",
    "            else:\n",
    "                self.sortInsert(node,start.left)\n",
    "#         print(root)\n",
    "        return\n",
    "    def dep(self,start,dept=1):\n",
    "        if start == None:\n",
    "            return dept\n",
    "        ld = self.dep(start.left,dept+1)\n",
    "        rd = self.dep(start.right,dept+1)\n",
    "        if ld>rd:\n",
    "            return ld\n",
    "        else:\n",
    "            return rd\n",
    "    def wid(self,start,dept=0):\n",
    "#         print(dept)\n",
    "        if(dept==0):\n",
    "            self.widLst = [0 for _ in range(self.dep(self.root))]\n",
    "        if start == None:\n",
    "            return\n",
    "        self.widLst[dept]+=1\n",
    "        ld = self.wid(start.left,dept+1)\n",
    "        rd = self.wid(start.right,dept+1)\n",
    "        return max(self.widLst)\n",
    "    def __repr__(self):\n",
    "        return str(root)"
   ]
  },
  {
   "cell_type": "code",
   "execution_count": 220,
   "metadata": {},
   "outputs": [],
   "source": [
    "# Test\n",
    "root = CLS_node('o',None,None)\n",
    "tree = CLS_tree(root)"
   ]
  },
  {
   "cell_type": "code",
   "execution_count": 221,
   "metadata": {},
   "outputs": [],
   "source": [
    "strst = set('tzlhpfybd')\n",
    "for s in strst:\n",
    "    node = CLS_node(s,None,None)\n",
    "    tree.sortInsert(node,tree.root)\n",
    "# tree.sortInsert(node)"
   ]
  },
  {
   "cell_type": "code",
   "execution_count": 222,
   "metadata": {},
   "outputs": [
    {
     "name": "stdout",
     "output_type": "stream",
     "text": [
      "bdfhloptyz\n"
     ]
    }
   ],
   "source": [
    "print(tree)"
   ]
  },
  {
   "cell_type": "code",
   "execution_count": 223,
   "metadata": {},
   "outputs": [
    {
     "name": "stdout",
     "output_type": "stream",
     "text": [
      "7\n",
      "3\n"
     ]
    }
   ],
   "source": [
    "print(tree.dep(tree.root))\n",
    "# print(tree.widLst)\n",
    "print(tree.wid(tree.root))"
   ]
  },
  {
   "cell_type": "code",
   "execution_count": 224,
   "metadata": {},
   "outputs": [
    {
     "data": {
      "text/plain": [
       "3"
      ]
     },
     "execution_count": 224,
     "metadata": {},
     "output_type": "execute_result"
    }
   ],
   "source": [
    "max(tree.widLst)"
   ]
  },
  {
   "cell_type": "code",
   "execution_count": null,
   "metadata": {},
   "outputs": [],
   "source": []
  }
 ],
 "metadata": {
  "kernelspec": {
   "display_name": "Python 3",
   "language": "python",
   "name": "python3"
  },
  "language_info": {
   "codemirror_mode": {
    "name": "ipython",
    "version": 3
   },
   "file_extension": ".py",
   "mimetype": "text/x-python",
   "name": "python",
   "nbconvert_exporter": "python",
   "pygments_lexer": "ipython3",
   "version": "3.7.3"
  }
 },
 "nbformat": 4,
 "nbformat_minor": 2
}