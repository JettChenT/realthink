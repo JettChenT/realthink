{
 "cells": [
  {
   "cell_type": "markdown",
   "metadata": {},
   "source": [
    "# Graph theory"
   ]
  },
  {
   "cell_type": "markdown",
   "metadata": {},
   "source": [
    "## Island\n",
    "A program that detects how many islands are there"
   ]
  },
  {
   "cell_type": "code",
   "execution_count": 5,
   "metadata": {},
   "outputs": [
    {
     "name": "stdout",
     "output_type": "stream",
     "text": [
      "[[0, 0, 0, 0, 0, 0, 0, 0, 0, 0, 0],\n",
      " [0, 0, 1, 0, 0, 0, 0, 0, 0, 0, 0],\n",
      " [0, 1, 0, 0, 0, 0, 0, 0, 0, 0, 0],\n",
      " [0, 0, 0, 0, 0, 0, 0, 0, 0, 0, 0],\n",
      " [0, 0, 0, 0, 0, 0, 0, 0, 0, 0, 0],\n",
      " [0, 0, 0, 0, 0, 0, 0, 0, 0, 0, 0],\n",
      " [0, 0, 0, 0, 0, 0, 0, 0, 0, 0, 0],\n",
      " [0, 0, 0, 0, 0, 0, 0, 0, 0, 0, 0],\n",
      " [0, 0, 0, 0, 0, 0, 0, 0, 0, 0, 0],\n",
      " [0, 0, 0, 0, 0, 0, 0, 0, 0, 0, 0],\n",
      " [0, 0, 0, 0, 0, 0, 0, 0, 0, 0, 0]]\n"
     ]
    }
   ],
   "source": [
    "from pprint import pprint\n",
    "grid = [[0 for j in range(11)]for i in range(11)]\n",
    "grid[1][2]=grid[2][1]=1\n",
    "pprint(grid)"
   ]
  },
  {
   "cell_type": "code",
   "execution_count": 43,
   "metadata": {},
   "outputs": [
    {
     "name": "stdout",
     "output_type": "stream",
     "text": [
      "[[0, 0, 0, 0, 0, 0, 0, 0, 0, 0, 0],\n",
      " [0, 0, 1, 0, 0, 0, 0, 1, 0, 0, 1],\n",
      " [0, 1, 0, 0, 0, 1, 0, 0, 0, 0, 0],\n",
      " [0, 0, 0, 0, 1, 0, 1, 0, 0, 0, 0],\n",
      " [0, 0, 0, 1, 0, 0, 1, 0, 0, 0, 0],\n",
      " [0, 0, 1, 0, 0, 0, 0, 0, 0, 1, 1],\n",
      " [0, 0, 0, 0, 1, 0, 0, 0, 0, 0, 0],\n",
      " [0, 1, 0, 0, 0, 0, 0, 0, 0, 1, 1],\n",
      " [0, 0, 0, 0, 0, 0, 0, 0, 0, 0, 1],\n",
      " [0, 0, 0, 0, 0, 1, 0, 1, 0, 0, 0],\n",
      " [0, 1, 0, 0, 0, 1, 0, 1, 1, 0, 0]]\n"
     ]
    }
   ],
   "source": [
    "grid[2][5] = grid[5][2] = 1\n",
    "grid[5][9] = grid[9][5] = 1\n",
    "grid[1][7] = grid[7][1] = 1\n",
    "grid[7][10] = grid[10][7] = 1\n",
    "grid[1][10] = grid[10][1] = 1\n",
    "grid[5][10] = grid[10][5] = 1\n",
    "grid[9][7] = grid[7][9] = 1\n",
    "grid[8][10] = grid[10][8] = 1\n",
    "grid[3][4] = grid[4][6] = grid[3][6] = grid[4][3] = grid[6][4] = grid[3][6] = 1\n",
    "pprint(grid)"
   ]
  },
  {
   "cell_type": "code",
   "execution_count": 57,
   "metadata": {},
   "outputs": [
    {
     "name": "stdout",
     "output_type": "stream",
     "text": [
      "[-1, -1, -1, -1, -1, -1, -1, -1, -1, -1, -1]\n",
      "[-1, 1, -1, -1, -1, -1, -1, -1, -1, -1, -1]\n",
      "[-1, 1, 1, -1, -1, 1, -1, 1, 1, 1, 1]\n",
      "[-1, 1, 1, 2, -1, 1, -1, 1, 1, 1, 1]\n",
      "[-1, 1, 1, 2, 2, 1, 2, 1, 1, 1, 1]\n"
     ]
    }
   ],
   "source": [
    "nums = [-1 for i in range(11)]\n",
    "cnt = 0\n",
    "flag = 1\n",
    "def isGood(lst):\n",
    "    for n in lst[1:]:\n",
    "        if n ==-1:\n",
    "            return False\n",
    "    return True\n",
    "while not isGood(nums):\n",
    "    print(nums)\n",
    "    flag = 0\n",
    "    for i in range(10):\n",
    "        if(nums[i+1] == cnt):\n",
    "            for j in range(10):\n",
    "                if grid[i+1][j+1]==1 and nums[j+1]==-1:\n",
    "                    nums[j+1] = cnt\n",
    "                    flag = 1\n",
    "    if flag==1:\n",
    "        continue\n",
    "    for i in range(10):\n",
    "        if nums[i+1] == -1:\n",
    "            cnt+=1\n",
    "            nums[i+1] = cnt\n",
    "            break\n",
    "\n",
    "print(nums)"
   ]
  },
  {
   "cell_type": "code",
   "execution_count": 58,
   "metadata": {},
   "outputs": [
    {
     "name": "stdout",
     "output_type": "stream",
     "text": [
      "2\n"
     ]
    }
   ],
   "source": [
    "print(cnt)"
   ]
  },
  {
   "cell_type": "code",
   "execution_count": 59,
   "metadata": {},
   "outputs": [
    {
     "name": "stdout",
     "output_type": "stream",
     "text": [
      "[-1, 1, 1, 2, 2, 1, 2, 1, 1, 1, 1]\n",
      "1:7\n",
      "2:3\n"
     ]
    }
   ],
   "source": [
    "print(nums)\n",
    "for i in range(cnt):\n",
    "    print(\"{il}:{n}\".format(il=i+1,n=nums.count(i+1)))"
   ]
  },
  {
   "cell_type": "code",
   "execution_count": 65,
   "metadata": {},
   "outputs": [
    {
     "name": "stdout",
     "output_type": "stream",
     "text": [
      "[-1, -1, -1, -1, -1, -1, -1, -1, -1, -1, -1]\n",
      "[-1, 1, -1, -1, -1, -1, -1, -1, -1, -1, -1]\n",
      "[-1, 1, -1, -1, -1, 1, -1, -1, -1, -1, -1]\n",
      "[-1, 1, -1, -1, 1, 1, -1, -1, -1, -1, -1]\n",
      "[-1, 1, 1, -1, 1, 1, -1, -1, -1, -1, -1]\n",
      "[-1, 1, 1, -1, 1, 1, 1, -1, -1, -1, -1]\n",
      "[-1, 1, 1, -1, 1, 1, 1, -1, -1, 1, -1]\n",
      "[-1, 1, 1, -1, 1, 1, 1, 1, -1, 1, -1]\n",
      "[-1, 1, 1, -1, 1, 1, 1, 1, 1, 1, -1]\n"
     ]
    },
    {
     "data": {
      "text/plain": [
       "[-1, 1, 1, 2, 1, 1, 1, 1, 1, 1, -1]"
      ]
     },
     "execution_count": 65,
     "metadata": {},
     "output_type": "execute_result"
    }
   ],
   "source": [
    "nums = [-1 for i in range(11)]\n",
    "def paint(lst,ind,cnt):\n",
    "    print(lst)\n",
    "    if lst[ind] == -1:\n",
    "        lst[ind] = cnt\n",
    "    global grid\n",
    "    for i in range(10):\n",
    "        if i+1<10 and grid[ind+1][i+1] == 1 and lst[i+1] == -1:\n",
    "            lst = paint(lst,i+1,cnt)\n",
    "    return lst\n",
    "paint(nums,1,1)\n",
    "paint(nums,3,2)"
   ]
  },
  {
   "cell_type": "code",
   "execution_count": null,
   "metadata": {},
   "outputs": [],
   "source": []
  }
 ],
 "metadata": {
  "kernelspec": {
   "display_name": "Python 3",
   "language": "python",
   "name": "python3"
  },
  "language_info": {
   "codemirror_mode": {
    "name": "ipython",
    "version": 3
   },
   "file_extension": ".py",
   "mimetype": "text/x-python",
   "name": "python",
   "nbconvert_exporter": "python",
   "pygments_lexer": "ipython3",
   "version": "3.7.3"
  }
 },
 "nbformat": 4,
 "nbformat_minor": 2
}
